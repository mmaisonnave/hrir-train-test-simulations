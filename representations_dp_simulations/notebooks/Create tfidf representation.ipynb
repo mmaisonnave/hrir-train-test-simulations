{
 "cells": [
  {
   "cell_type": "markdown",
   "id": "8541f5f6",
   "metadata": {},
   "source": [
    "### IMPORTS"
   ]
  },
  {
   "cell_type": "code",
   "execution_count": 1,
   "id": "f1628384",
   "metadata": {},
   "outputs": [],
   "source": [
    "import numpy as np\n",
    "import pandas as pd\n",
    "import os\n",
    "import sys\n",
    "import pickle"
   ]
  },
  {
   "cell_type": "markdown",
   "id": "4c79eb2d",
   "metadata": {},
   "source": [
    "### INTPUT & OUTPUT"
   ]
  },
  {
   "cell_type": "code",
   "execution_count": 2,
   "id": "78261860",
   "metadata": {},
   "outputs": [],
   "source": [
    "with open('../config/repository_path.txt', 'r') as reader:\n",
    "    repository_path = reader.read().strip()\n",
    "sys.path.append(repository_path)\n",
    "\n",
    "from lib import tdmstudio\n",
    "from lib import nlp\n",
    "\n",
    "# ------ #\n",
    "# OUTPUT #\n",
    "# ------ #\n",
    "embedding_path = os.path.join(repository_path, 'embeddings')\n",
    "assert os.path.exists(embedding_path)\n",
    "embedding_file = os.path.join(embedding_path, 'item_representation_tfidf.pickle')\n",
    "\n",
    "# ----- #\n",
    "# INPUT #\n",
    "# ----- #\n",
    "data_path = '/home/ec2-user/SageMaker/mariano/datasets/displaced_persons/files/labeled_data_latest_08072022.csv'"
   ]
  },
  {
   "cell_type": "markdown",
   "id": "7a28bdec",
   "metadata": {},
   "source": [
    "### DATA"
   ]
  },
  {
   "cell_type": "code",
   "execution_count": 3,
   "id": "4ce8b0e1",
   "metadata": {},
   "outputs": [
    {
     "data": {
      "text/html": [
       "<div>\n",
       "<style scoped>\n",
       "    .dataframe tbody tr th:only-of-type {\n",
       "        vertical-align: middle;\n",
       "    }\n",
       "\n",
       "    .dataframe tbody tr th {\n",
       "        vertical-align: top;\n",
       "    }\n",
       "\n",
       "    .dataframe thead th {\n",
       "        text-align: right;\n",
       "    }\n",
       "</style>\n",
       "<table border=\"1\" class=\"dataframe\">\n",
       "  <thead>\n",
       "    <tr style=\"text-align: right;\">\n",
       "      <th></th>\n",
       "      <th>id</th>\n",
       "      <th>label</th>\n",
       "      <th>text and title</th>\n",
       "    </tr>\n",
       "  </thead>\n",
       "  <tbody>\n",
       "    <tr>\n",
       "      <th>0</th>\n",
       "      <td>1293118416</td>\n",
       "      <td>R</td>\n",
       "      <td>Farm Jobs Wanted.\\n          \\n            \\n\\...</td>\n",
       "    </tr>\n",
       "    <tr>\n",
       "      <th>1</th>\n",
       "      <td>1291398730</td>\n",
       "      <td>R</td>\n",
       "      <td>DP's Are Eager to Learn CWL Executive Reports....</td>\n",
       "    </tr>\n",
       "    <tr>\n",
       "      <th>2</th>\n",
       "      <td>1325747973</td>\n",
       "      <td>R</td>\n",
       "      <td>Teams Find DP's Look to Canada For Opportunity...</td>\n",
       "    </tr>\n",
       "    <tr>\n",
       "      <th>3</th>\n",
       "      <td>1287771491</td>\n",
       "      <td>R</td>\n",
       "      <td>DP Killed on Highway Checking Stalled Auto.\\n ...</td>\n",
       "    </tr>\n",
       "    <tr>\n",
       "      <th>4</th>\n",
       "      <td>1291249197</td>\n",
       "      <td>R</td>\n",
       "      <td>MISS C. LENORE CHARLES.\\n          \\n         ...</td>\n",
       "    </tr>\n",
       "  </tbody>\n",
       "</table>\n",
       "</div>"
      ],
      "text/plain": [
       "           id label                                     text and title\n",
       "0  1293118416     R  Farm Jobs Wanted.\\n          \\n            \\n\\...\n",
       "1  1291398730     R  DP's Are Eager to Learn CWL Executive Reports....\n",
       "2  1325747973     R  Teams Find DP's Look to Canada For Opportunity...\n",
       "3  1287771491     R  DP Killed on Highway Checking Stalled Auto.\\n ...\n",
       "4  1291249197     R  MISS C. LENORE CHARLES.\\n          \\n         ..."
      ]
     },
     "execution_count": 3,
     "metadata": {},
     "output_type": "execute_result"
    }
   ],
   "source": [
    "df = pd.read_csv(data_path, sep=';')\n",
    "df['text and title'] = list(map(lambda id_: tdmstudio.get_title_and_text(tdmstudio.get_filename(str(id_))), df['id']))\n",
    "df.head()"
   ]
  },
  {
   "cell_type": "markdown",
   "id": "a2fb7277",
   "metadata": {},
   "source": [
    "### MODEL\n"
   ]
  },
  {
   "cell_type": "code",
   "execution_count": 5,
   "id": "100c31cb",
   "metadata": {},
   "outputs": [],
   "source": [
    "vectorizer = nlp.get_spacy_processed_vectorize()\n",
    "X = vectorizer.fit_transform(df['text and title'])\n"
   ]
  },
  {
   "cell_type": "code",
   "execution_count": 8,
   "id": "cdd8f617",
   "metadata": {},
   "outputs": [
    {
     "ename": "AttributeError",
     "evalue": "asarray not found",
     "output_type": "error",
     "traceback": [
      "\u001b[0;31m---------------------------------------------------------------------------\u001b[0m",
      "\u001b[0;31mAttributeError\u001b[0m                            Traceback (most recent call last)",
      "\u001b[0;32m/tmp/ipykernel_18299/743739745.py\u001b[0m in \u001b[0;36m<module>\u001b[0;34m\u001b[0m\n\u001b[0;32m----> 1\u001b[0;31m \u001b[0mX\u001b[0m\u001b[0;34m.\u001b[0m\u001b[0masarray\u001b[0m\u001b[0;34m(\u001b[0m\u001b[0;34m)\u001b[0m\u001b[0;34m\u001b[0m\u001b[0;34m\u001b[0m\u001b[0m\n\u001b[0m",
      "\u001b[0;32m~/SageMaker/.conda/envs/imm/lib/python3.9/site-packages/scipy/sparse/_base.py\u001b[0m in \u001b[0;36m__getattr__\u001b[0;34m(self, attr)\u001b[0m\n\u001b[1;32m    769\u001b[0m             \u001b[0;32mreturn\u001b[0m \u001b[0mself\u001b[0m\u001b[0;34m.\u001b[0m\u001b[0mgetnnz\u001b[0m\u001b[0;34m(\u001b[0m\u001b[0;34m)\u001b[0m\u001b[0;34m\u001b[0m\u001b[0;34m\u001b[0m\u001b[0m\n\u001b[1;32m    770\u001b[0m         \u001b[0;32melse\u001b[0m\u001b[0;34m:\u001b[0m\u001b[0;34m\u001b[0m\u001b[0;34m\u001b[0m\u001b[0m\n\u001b[0;32m--> 771\u001b[0;31m             \u001b[0;32mraise\u001b[0m \u001b[0mAttributeError\u001b[0m\u001b[0;34m(\u001b[0m\u001b[0mattr\u001b[0m \u001b[0;34m+\u001b[0m \u001b[0;34m\" not found\"\u001b[0m\u001b[0;34m)\u001b[0m\u001b[0;34m\u001b[0m\u001b[0;34m\u001b[0m\u001b[0m\n\u001b[0m\u001b[1;32m    772\u001b[0m \u001b[0;34m\u001b[0m\u001b[0m\n\u001b[1;32m    773\u001b[0m     \u001b[0;32mdef\u001b[0m \u001b[0mtranspose\u001b[0m\u001b[0;34m(\u001b[0m\u001b[0mself\u001b[0m\u001b[0;34m,\u001b[0m \u001b[0maxes\u001b[0m\u001b[0;34m=\u001b[0m\u001b[0;32mNone\u001b[0m\u001b[0;34m,\u001b[0m \u001b[0mcopy\u001b[0m\u001b[0;34m=\u001b[0m\u001b[0;32mFalse\u001b[0m\u001b[0;34m)\u001b[0m\u001b[0;34m:\u001b[0m\u001b[0;34m\u001b[0m\u001b[0;34m\u001b[0m\u001b[0m\n",
      "\u001b[0;31mAttributeError\u001b[0m: asarray not found"
     ]
    }
   ],
   "source": [
    "X.toarray()"
   ]
  },
  {
   "cell_type": "code",
   "execution_count": 9,
   "id": "32640be0",
   "metadata": {},
   "outputs": [],
   "source": [
    "item_representation =  {id_:X[ix,:].toarray() for ix,id_ in enumerate(df['id'])}"
   ]
  },
  {
   "cell_type": "code",
   "execution_count": 17,
   "id": "0b6369b3",
   "metadata": {},
   "outputs": [],
   "source": [
    "with open(embedding_file, 'wb') as writer:\n",
    "    pickle.dump(item_representation, writer)"
   ]
  },
  {
   "cell_type": "code",
   "execution_count": 14,
   "id": "936d311a",
   "metadata": {},
   "outputs": [
    {
     "data": {
      "text/plain": [
       "[1293118416, 1291398730]"
      ]
     },
     "execution_count": 14,
     "metadata": {},
     "output_type": "execute_result"
    }
   ],
   "source": [
    "list(item_representation)[0:2]"
   ]
  },
  {
   "cell_type": "code",
   "execution_count": 15,
   "id": "bf25284d",
   "metadata": {},
   "outputs": [
    {
     "data": {
      "text/plain": [
       "8.907861696277058"
      ]
     },
     "execution_count": 15,
     "metadata": {},
     "output_type": "execute_result"
    }
   ],
   "source": [
    "np.sum(item_representation[1291398730])"
   ]
  },
  {
   "cell_type": "code",
   "execution_count": 16,
   "id": "029aff13",
   "metadata": {},
   "outputs": [
    {
     "data": {
      "text/plain": [
       "'/home/ec2-user/SageMaker/mariano/repositories/train-test-split/all_ng20_simulations/embeddings/item_representation_tfidf.pickle'"
      ]
     },
     "execution_count": 16,
     "metadata": {},
     "output_type": "execute_result"
    }
   ],
   "source": [
    "embedding_file"
   ]
  },
  {
   "cell_type": "code",
   "execution_count": null,
   "id": "648d9117",
   "metadata": {},
   "outputs": [],
   "source": []
  }
 ],
 "metadata": {
  "kernelspec": {
   "display_name": "imm",
   "language": "python",
   "name": "imm"
  },
  "language_info": {
   "codemirror_mode": {
    "name": "ipython",
    "version": 3
   },
   "file_extension": ".py",
   "mimetype": "text/x-python",
   "name": "python",
   "nbconvert_exporter": "python",
   "pygments_lexer": "ipython3",
   "version": "3.9.7"
  }
 },
 "nbformat": 4,
 "nbformat_minor": 5
}
