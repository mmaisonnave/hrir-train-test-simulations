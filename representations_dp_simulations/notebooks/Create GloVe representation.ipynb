{
 "cells": [
  {
   "cell_type": "markdown",
   "id": "eccdafef",
   "metadata": {},
   "source": [
    "### IMPORTS"
   ]
  },
  {
   "cell_type": "code",
   "execution_count": 15,
   "id": "11941fe4",
   "metadata": {},
   "outputs": [],
   "source": [
    "import spacy\n",
    "import numpy as np\n",
    "import sys\n",
    "import pandas as pd\n",
    "import os\n",
    "import pickle"
   ]
  },
  {
   "cell_type": "markdown",
   "id": "4bd08a87",
   "metadata": {},
   "source": [
    "### INPUTS AND OUTPUTS"
   ]
  },
  {
   "cell_type": "code",
   "execution_count": 2,
   "id": "d72e20b5",
   "metadata": {},
   "outputs": [],
   "source": [
    "with open('../config/repository_path.txt', 'r') as reader:\n",
    "    repository_path = reader.read().strip()\n",
    "sys.path.append(repository_path)\n",
    "\n",
    "from lib import tdmstudio\n",
    "# ------ #\n",
    "# OUTPUT #\n",
    "# ------ #\n",
    "embedding_path = os.path.join(repository_path, 'embeddings')\n",
    "assert os.path.exists(embedding_path)\n",
    "embedding_file = os.path.join(embedding_path, 'item_representation_glove.pickle')\n",
    "\n",
    "# ----- #\n",
    "# INPUT #\n",
    "# ----- #\n",
    "data_path = '/home/ec2-user/SageMaker/mariano/datasets/displaced_persons/files/labeled_data_latest_08072022.csv'"
   ]
  },
  {
   "cell_type": "markdown",
   "id": "491b2d45",
   "metadata": {},
   "source": [
    "### DATA"
   ]
  },
  {
   "cell_type": "code",
   "execution_count": 3,
   "id": "3646b8f4",
   "metadata": {},
   "outputs": [
    {
     "data": {
      "text/html": [
       "<div>\n",
       "<style scoped>\n",
       "    .dataframe tbody tr th:only-of-type {\n",
       "        vertical-align: middle;\n",
       "    }\n",
       "\n",
       "    .dataframe tbody tr th {\n",
       "        vertical-align: top;\n",
       "    }\n",
       "\n",
       "    .dataframe thead th {\n",
       "        text-align: right;\n",
       "    }\n",
       "</style>\n",
       "<table border=\"1\" class=\"dataframe\">\n",
       "  <thead>\n",
       "    <tr style=\"text-align: right;\">\n",
       "      <th></th>\n",
       "      <th>id</th>\n",
       "      <th>label</th>\n",
       "      <th>text and title</th>\n",
       "    </tr>\n",
       "  </thead>\n",
       "  <tbody>\n",
       "    <tr>\n",
       "      <th>0</th>\n",
       "      <td>1293118416</td>\n",
       "      <td>R</td>\n",
       "      <td>Farm Jobs Wanted.\\n          \\n            \\n\\...</td>\n",
       "    </tr>\n",
       "    <tr>\n",
       "      <th>1</th>\n",
       "      <td>1291398730</td>\n",
       "      <td>R</td>\n",
       "      <td>DP's Are Eager to Learn CWL Executive Reports....</td>\n",
       "    </tr>\n",
       "    <tr>\n",
       "      <th>2</th>\n",
       "      <td>1325747973</td>\n",
       "      <td>R</td>\n",
       "      <td>Teams Find DP's Look to Canada For Opportunity...</td>\n",
       "    </tr>\n",
       "    <tr>\n",
       "      <th>3</th>\n",
       "      <td>1287771491</td>\n",
       "      <td>R</td>\n",
       "      <td>DP Killed on Highway Checking Stalled Auto.\\n ...</td>\n",
       "    </tr>\n",
       "    <tr>\n",
       "      <th>4</th>\n",
       "      <td>1291249197</td>\n",
       "      <td>R</td>\n",
       "      <td>MISS C. LENORE CHARLES.\\n          \\n         ...</td>\n",
       "    </tr>\n",
       "  </tbody>\n",
       "</table>\n",
       "</div>"
      ],
      "text/plain": [
       "           id label                                     text and title\n",
       "0  1293118416     R  Farm Jobs Wanted.\\n          \\n            \\n\\...\n",
       "1  1291398730     R  DP's Are Eager to Learn CWL Executive Reports....\n",
       "2  1325747973     R  Teams Find DP's Look to Canada For Opportunity...\n",
       "3  1287771491     R  DP Killed on Highway Checking Stalled Auto.\\n ...\n",
       "4  1291249197     R  MISS C. LENORE CHARLES.\\n          \\n         ..."
      ]
     },
     "execution_count": 3,
     "metadata": {},
     "output_type": "execute_result"
    }
   ],
   "source": [
    "df = pd.read_csv(data_path, sep=';')\n",
    "df['text and title'] = list(map(lambda id_: tdmstudio.get_title_and_text(tdmstudio.get_filename(str(id_))), df['id']))\n",
    "df.head()"
   ]
  },
  {
   "cell_type": "markdown",
   "id": "607d74c9",
   "metadata": {},
   "source": [
    "### MODEL"
   ]
  },
  {
   "cell_type": "code",
   "execution_count": 4,
   "id": "53e39e62",
   "metadata": {},
   "outputs": [],
   "source": [
    "nlp = spacy.load('en_core_web_lg', disable=['textcat', 'ner', 'parser',])"
   ]
  },
  {
   "cell_type": "code",
   "execution_count": 5,
   "id": "5d37f20c",
   "metadata": {},
   "outputs": [],
   "source": [
    "vecs = list(map(lambda text: nlp(text).vector, df['text and title']))\n"
   ]
  },
  {
   "cell_type": "code",
   "execution_count": 6,
   "id": "22ca07e1",
   "metadata": {},
   "outputs": [],
   "source": [
    "item_representation =  {id_:vecs[ix] for ix,id_ in enumerate(df['id'])}"
   ]
  },
  {
   "cell_type": "code",
   "execution_count": 16,
   "id": "5ea425d1",
   "metadata": {},
   "outputs": [],
   "source": [
    "with open(embedding_file, 'wb') as writer:\n",
    "    pickle.dump(item_representation, writer)"
   ]
  },
  {
   "cell_type": "code",
   "execution_count": 13,
   "id": "bb3943c1",
   "metadata": {},
   "outputs": [
    {
     "data": {
      "text/plain": [
       "'/home/ec2-user/SageMaker/mariano/repositories/train-test-split/all_ng20_simulations/embeddings/item_representation_glove.pickle'"
      ]
     },
     "execution_count": 13,
     "metadata": {},
     "output_type": "execute_result"
    }
   ],
   "source": [
    "embedding_file"
   ]
  },
  {
   "cell_type": "code",
   "execution_count": 12,
   "id": "5a06b5c1",
   "metadata": {},
   "outputs": [
    {
     "data": {
      "text/plain": [
       "(300,)"
      ]
     },
     "execution_count": 12,
     "metadata": {},
     "output_type": "execute_result"
    }
   ],
   "source": [
    "item_representation[1291398730].shape"
   ]
  },
  {
   "cell_type": "code",
   "execution_count": null,
   "id": "7706b658",
   "metadata": {},
   "outputs": [],
   "source": []
  }
 ],
 "metadata": {
  "kernelspec": {
   "display_name": "imm",
   "language": "python",
   "name": "imm"
  },
  "language_info": {
   "codemirror_mode": {
    "name": "ipython",
    "version": 3
   },
   "file_extension": ".py",
   "mimetype": "text/x-python",
   "name": "python",
   "nbconvert_exporter": "python",
   "pygments_lexer": "ipython3",
   "version": "3.9.7"
  }
 },
 "nbformat": 4,
 "nbformat_minor": 5
}
