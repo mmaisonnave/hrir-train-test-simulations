{
 "cells": [
  {
   "cell_type": "markdown",
   "id": "a996a1a8",
   "metadata": {},
   "source": [
    "### IMPORTS"
   ]
  },
  {
   "cell_type": "code",
   "execution_count": 1,
   "id": "44f896b8",
   "metadata": {},
   "outputs": [],
   "source": [
    "import spacy\n",
    "import numpy as np\n",
    "import sys\n",
    "import pandas as pd\n",
    "import os\n",
    "import pickle"
   ]
  },
  {
   "cell_type": "markdown",
   "id": "f169f01a",
   "metadata": {},
   "source": [
    "### INPUTS AND OUTPUTS"
   ]
  },
  {
   "cell_type": "code",
   "execution_count": 2,
   "id": "690e6723",
   "metadata": {},
   "outputs": [],
   "source": [
    "with open('../config/repository_path.txt', 'r') as reader:\n",
    "    repository_path = reader.read().strip()\n",
    "sys.path.append(repository_path)\n",
    "\n",
    "from lib import tdmstudio\n",
    "from lib import nlp\n",
    "\n",
    "# ------ #\n",
    "# OUTPUT #\n",
    "# ------ #\n",
    "embedding_path = os.path.join(repository_path, 'embeddings')\n",
    "assert os.path.exists(embedding_path)\n",
    "embedding_file = os.path.join(embedding_path, 'item_representation_glove.pickle')\n",
    "\n",
    "# ----- #\n",
    "# INPUT #\n",
    "# ----- #\n",
    "# data_path = '/home/ec2-user/SageMaker/mariano/datasets/displaced_persons/files/labeled_data_latest_08072022.csv'\n",
    "DATAPATH = '/home/ec2-user/SageMaker/mariano/datasets/20news-18828/files/'\n"
   ]
  },
  {
   "cell_type": "markdown",
   "id": "7f84cad4",
   "metadata": {},
   "source": [
    "### DATA"
   ]
  },
  {
   "cell_type": "code",
   "execution_count": 4,
   "id": "7eb72e8c",
   "metadata": {},
   "outputs": [
    {
     "data": {
      "text/html": [
       "<div>\n",
       "<style scoped>\n",
       "    .dataframe tbody tr th:only-of-type {\n",
       "        vertical-align: middle;\n",
       "    }\n",
       "\n",
       "    .dataframe tbody tr th {\n",
       "        vertical-align: top;\n",
       "    }\n",
       "\n",
       "    .dataframe thead th {\n",
       "        text-align: right;\n",
       "    }\n",
       "</style>\n",
       "<table border=\"1\" class=\"dataframe\">\n",
       "  <thead>\n",
       "    <tr style=\"text-align: right;\">\n",
       "      <th></th>\n",
       "      <th>id</th>\n",
       "      <th>text</th>\n",
       "    </tr>\n",
       "  </thead>\n",
       "  <tbody>\n",
       "    <tr>\n",
       "      <th>0</th>\n",
       "      <td>rec.motorcycles/104702</td>\n",
       "      <td>From: egreen@east.sun.com (Ed Green - Pixel Cr...</td>\n",
       "    </tr>\n",
       "    <tr>\n",
       "      <th>1</th>\n",
       "      <td>rec.motorcycles/104863</td>\n",
       "      <td>From: vech@Ra.MsState.Edu (Craig A. Vechorik)\\...</td>\n",
       "    </tr>\n",
       "    <tr>\n",
       "      <th>2</th>\n",
       "      <td>rec.motorcycles/105203</td>\n",
       "      <td>From: asphaug@lpl.arizona.edu (Erik Asphaug x2...</td>\n",
       "    </tr>\n",
       "    <tr>\n",
       "      <th>3</th>\n",
       "      <td>rec.motorcycles/104694</td>\n",
       "      <td>From: nelson@seahunt.imat.com (Michael Nelson)...</td>\n",
       "    </tr>\n",
       "    <tr>\n",
       "      <th>4</th>\n",
       "      <td>rec.motorcycles/105132</td>\n",
       "      <td>From: jjb@dtc.hp.com (Jim Brewer)\\nSubject: Re...</td>\n",
       "    </tr>\n",
       "    <tr>\n",
       "      <th>...</th>\n",
       "      <td>...</td>\n",
       "      <td>...</td>\n",
       "    </tr>\n",
       "    <tr>\n",
       "      <th>18823</th>\n",
       "      <td>comp.graphics/38943</td>\n",
       "      <td>From: mharring@cch.coventry.ac.uk (MARTIN)\\nSu...</td>\n",
       "    </tr>\n",
       "    <tr>\n",
       "      <th>18824</th>\n",
       "      <td>comp.graphics/38516</td>\n",
       "      <td>From: capelli@vnet.IBM.COM (Ron Capelli)\\nSubj...</td>\n",
       "    </tr>\n",
       "    <tr>\n",
       "      <th>18825</th>\n",
       "      <td>comp.graphics/38292</td>\n",
       "      <td>From: spl@ivem.ucsd.edu (Steve Lamont)\\nSubjec...</td>\n",
       "    </tr>\n",
       "    <tr>\n",
       "      <th>18826</th>\n",
       "      <td>comp.graphics/38219</td>\n",
       "      <td>From: lewism@aix.rpi.edu (Michael C. Lewis)\\nS...</td>\n",
       "    </tr>\n",
       "    <tr>\n",
       "      <th>18827</th>\n",
       "      <td>comp.graphics/39634</td>\n",
       "      <td>From: powlesla@acs.ucalgary.ca (Jim Powlesland...</td>\n",
       "    </tr>\n",
       "  </tbody>\n",
       "</table>\n",
       "<p>18828 rows × 2 columns</p>\n",
       "</div>"
      ],
      "text/plain": [
       "                           id  \\\n",
       "0      rec.motorcycles/104702   \n",
       "1      rec.motorcycles/104863   \n",
       "2      rec.motorcycles/105203   \n",
       "3      rec.motorcycles/104694   \n",
       "4      rec.motorcycles/105132   \n",
       "...                       ...   \n",
       "18823     comp.graphics/38943   \n",
       "18824     comp.graphics/38516   \n",
       "18825     comp.graphics/38292   \n",
       "18826     comp.graphics/38219   \n",
       "18827     comp.graphics/39634   \n",
       "\n",
       "                                                    text  \n",
       "0      From: egreen@east.sun.com (Ed Green - Pixel Cr...  \n",
       "1      From: vech@Ra.MsState.Edu (Craig A. Vechorik)\\...  \n",
       "2      From: asphaug@lpl.arizona.edu (Erik Asphaug x2...  \n",
       "3      From: nelson@seahunt.imat.com (Michael Nelson)...  \n",
       "4      From: jjb@dtc.hp.com (Jim Brewer)\\nSubject: Re...  \n",
       "...                                                  ...  \n",
       "18823  From: mharring@cch.coventry.ac.uk (MARTIN)\\nSu...  \n",
       "18824  From: capelli@vnet.IBM.COM (Ron Capelli)\\nSubj...  \n",
       "18825  From: spl@ivem.ucsd.edu (Steve Lamont)\\nSubjec...  \n",
       "18826  From: lewism@aix.rpi.edu (Michael C. Lewis)\\nS...  \n",
       "18827  From: powlesla@acs.ucalgary.ca (Jim Powlesland...  \n",
       "\n",
       "[18828 rows x 2 columns]"
      ]
     },
     "execution_count": 4,
     "metadata": {},
     "output_type": "execute_result"
    }
   ],
   "source": [
    "files = [os.path.join(DATAPATH, folder, file_) for folder  in os.listdir(DATAPATH) for file_ in os.listdir(os.path.join(DATAPATH, folder))]\n",
    "assert all([os.path.isfile(file_) for file_ in files])\n",
    "\n",
    "ids = ['/'.join(file_.split('/')[-2:]) for file_ in files]\n",
    "texts = list(map(lambda file_: open(file_, 'r', encoding='latin-1').read(), files))\n",
    "\n",
    "\n",
    "        \n",
    "# pd.DataFrame(data)\n",
    "df = pd.DataFrame({'id':ids, 'text':texts,})\n",
    "df"
   ]
  },
  {
   "cell_type": "markdown",
   "id": "63a1c3bd",
   "metadata": {},
   "source": [
    "### MODEL"
   ]
  },
  {
   "cell_type": "code",
   "execution_count": 5,
   "id": "92220948",
   "metadata": {},
   "outputs": [],
   "source": [
    "nlp = spacy.load('en_core_web_lg', disable=['textcat', 'ner', 'parser',])"
   ]
  },
  {
   "cell_type": "code",
   "execution_count": 6,
   "id": "5f6387e8",
   "metadata": {},
   "outputs": [],
   "source": [
    "vecs = list(map(lambda text: nlp(text).vector, df['text']))\n"
   ]
  },
  {
   "cell_type": "code",
   "execution_count": 7,
   "id": "1f522cec",
   "metadata": {},
   "outputs": [],
   "source": [
    "item_representation =  {id_:vecs[ix] for ix,id_ in enumerate(df['id'])}"
   ]
  },
  {
   "cell_type": "code",
   "execution_count": 8,
   "id": "79de0208",
   "metadata": {},
   "outputs": [
    {
     "data": {
      "text/plain": [
       "'/home/ec2-user/SageMaker/mariano/repositories/train-test-split/all_ng_simulations/embeddings/item_representation_glove.pickle'"
      ]
     },
     "execution_count": 8,
     "metadata": {},
     "output_type": "execute_result"
    }
   ],
   "source": [
    "embedding_file"
   ]
  },
  {
   "cell_type": "code",
   "execution_count": 9,
   "id": "401e6ff3",
   "metadata": {},
   "outputs": [],
   "source": [
    "with open(embedding_file, 'wb') as writer:\n",
    "    pickle.dump(item_representation, writer)"
   ]
  },
  {
   "cell_type": "code",
   "execution_count": 11,
   "id": "0a636094",
   "metadata": {},
   "outputs": [
    {
     "data": {
      "text/plain": [
       "['rec.motorcycles/104702', 'rec.motorcycles/104863']"
      ]
     },
     "execution_count": 11,
     "metadata": {},
     "output_type": "execute_result"
    }
   ],
   "source": [
    "list(item_representation)[:2]"
   ]
  },
  {
   "cell_type": "code",
   "execution_count": 15,
   "id": "a3be6906",
   "metadata": {},
   "outputs": [
    {
     "data": {
      "text/plain": [
       "array([-3.02651711e-02,  1.57828659e-01, -1.07036486e-01, -3.81977670e-02,\n",
       "        4.59820591e-02,  2.15224102e-02, -6.24900870e-03, -1.22590661e-01,\n",
       "       -3.13916206e-02,  1.80259597e+00, -1.76963836e-01,  4.34588939e-02,\n",
       "        6.99802488e-02, -6.11593463e-02, -1.14718504e-01, -5.36652282e-02,\n",
       "       -5.34182824e-02,  8.42997372e-01, -1.29043907e-01, -2.06496771e-02,\n",
       "        1.88927799e-02, -2.70951539e-02, -2.39264760e-02, -3.79296690e-02,\n",
       "        2.84314957e-02,  3.96626815e-02, -1.02900356e-01, -2.74022687e-02,\n",
       "        1.97455026e-02, -2.50539239e-02,  2.41338726e-04,  8.07018578e-02,\n",
       "       -4.54680547e-02,  7.76696205e-02,  2.26218421e-02, -5.13904653e-02,\n",
       "       -3.70967537e-02,  1.51937138e-02, -1.00449257e-01, -5.96676618e-02,\n",
       "        2.54643545e-03,  4.87659611e-02,  1.62375830e-02, -6.87728152e-02,\n",
       "        3.61690670e-02,  2.57867724e-02, -1.00077562e-01,  7.82838278e-03,\n",
       "        3.71154621e-02,  3.45281628e-03, -6.61983564e-02,  6.43182844e-02,\n",
       "       -1.44191701e-02, -1.85545348e-02,  3.09628490e-02,  4.14221128e-03,\n",
       "       -2.36804765e-02, -4.05417904e-02,  7.70768197e-03, -8.46020579e-02,\n",
       "       -6.12399317e-02, -1.00721857e-02, -1.35619277e-02,  1.63715765e-01,\n",
       "        2.31854133e-02, -4.95487452e-02, -1.81904007e-02,  2.53679957e-02,\n",
       "       -4.62942664e-03,  9.93077159e-02,  5.46282120e-02, -6.95889024e-03,\n",
       "        1.09623678e-01, -1.21846404e-02,  5.78581169e-02,  1.82918925e-02,\n",
       "        1.71127599e-02, -6.01997338e-02, -3.81762907e-02,  1.59202978e-01,\n",
       "       -2.88742837e-02,  5.47475517e-02, -9.45628062e-02,  3.44798490e-02,\n",
       "        4.10507321e-02, -1.62155315e-01,  8.18351656e-02, -2.41048634e-01,\n",
       "        1.77621812e-01, -2.42919615e-03, -5.91482669e-02, -1.48803256e-02,\n",
       "       -3.33745815e-02,  7.60853430e-03,  1.14045069e-01, -3.32811214e-02,\n",
       "       -3.01795192e-02, -5.21275550e-02,  1.66512430e-02, -5.04339905e-03,\n",
       "       -8.81136674e-03,  1.09215984e-02, -6.98919147e-02, -1.22696022e-02,\n",
       "        6.53225332e-02, -5.24380803e-01,  6.83137849e-02,  4.61791968e-03,\n",
       "        1.74232516e-02,  4.05706093e-03,  3.20769055e-03, -5.16409017e-02,\n",
       "        6.27106279e-02, -5.96078523e-02,  7.59415911e-04, -2.07747221e-02,\n",
       "       -2.95505449e-02, -4.11035568e-02,  1.01301987e-02, -3.45457532e-02,\n",
       "        5.64549342e-02, -2.10245028e-02, -7.96195120e-03,  5.74659668e-02,\n",
       "       -2.47723423e-02,  7.84588158e-02, -1.99137367e-02, -9.73405689e-02,\n",
       "       -1.15479408e-04, -6.19528000e-04, -4.40922892e-03, -2.26312689e-02,\n",
       "       -6.51535317e-02, -3.53652947e-02,  2.05239430e-02,  3.73175852e-02,\n",
       "       -1.33011686e-02,  2.86055561e-02,  1.49423741e-02, -3.76900919e-02,\n",
       "       -8.77606809e-01,  7.57170692e-02,  7.20665380e-02,  2.36200150e-02,\n",
       "        2.57375445e-02, -5.74723221e-02, -2.79500019e-02,  1.77002158e-02,\n",
       "        1.20144861e-03, -3.13780792e-02, -4.27609682e-03, -1.92962997e-02,\n",
       "        4.65602763e-02, -3.17214150e-03,  7.97175523e-03,  1.46917840e-02,\n",
       "       -9.86011624e-02, -3.31164934e-02, -1.77810714e-02, -1.87098905e-02,\n",
       "       -1.63515173e-02, -1.06728654e-02, -1.45169059e-02, -3.04247364e-02,\n",
       "       -1.29346475e-01, -1.07893512e-01,  1.28711099e-02, -2.26552729e-02,\n",
       "        1.03514150e-01,  1.64720882e-02, -3.04962299e-03, -2.52490491e-02,\n",
       "        8.66447613e-02, -9.05095488e-02, -6.64750338e-02,  1.04112802e-02,\n",
       "        1.19870622e-02,  3.62212886e-03, -2.03155652e-02,  2.05571987e-02,\n",
       "       -2.01940201e-02, -4.76838127e-02, -7.52849206e-02, -9.84482095e-02,\n",
       "       -3.79034616e-02,  1.49196375e-03, -3.84732559e-02, -9.93306842e-03,\n",
       "        3.95615399e-02,  2.69278605e-02, -2.48560123e-02,  2.90107485e-02,\n",
       "       -7.62227401e-02,  2.31226217e-02,  6.17734268e-02,  1.05958059e-01,\n",
       "       -2.82784607e-02, -9.64088812e-02, -3.54252360e-03,  1.30971894e-01,\n",
       "       -1.63748115e-02, -3.69536951e-02, -7.96768367e-02, -2.99431733e-03,\n",
       "        1.47000074e-01, -2.65648728e-03,  4.48807031e-02,  7.58631574e-03,\n",
       "       -9.02728119e-04,  2.87911464e-02, -4.44132574e-02,  2.23669391e-02,\n",
       "        2.73172744e-03, -9.81865972e-02,  4.05248329e-02,  1.66264981e-01,\n",
       "       -5.74771054e-02,  6.28676405e-03, -1.47218347e-01,  1.81302913e-02,\n",
       "       -3.36885825e-03,  5.34282578e-03, -3.01597584e-02,  4.60129939e-02,\n",
       "        1.21320132e-02,  4.65095835e-03, -9.82861873e-03,  6.96609318e-02,\n",
       "        1.15351928e-02, -1.41762597e-02, -7.83751681e-02,  3.10722366e-02,\n",
       "        2.23006103e-02,  5.98978102e-02, -1.14799090e-01, -6.13621399e-02,\n",
       "       -2.90938355e-02, -5.86359166e-02, -7.22729564e-02,  8.35615620e-02,\n",
       "        2.88529769e-02,  1.42760212e-02,  6.65692464e-02,  4.08728495e-02,\n",
       "        7.23759755e-02, -1.19316958e-01,  1.17900046e-02, -8.37913752e-02,\n",
       "       -9.24250185e-02,  1.64676122e-02,  5.96944876e-02, -8.28129146e-03,\n",
       "       -5.89325726e-02, -3.16864066e-02,  4.49581780e-02,  1.77021235e-01,\n",
       "        5.68958558e-02, -5.33739142e-02, -1.67346727e-02,  2.72909682e-02,\n",
       "        7.59575740e-02,  7.21174926e-02, -1.61529705e-02,  1.06422871e-01,\n",
       "        3.25424075e-02, -1.07451245e-01,  6.51890226e-03,  2.86653042e-02,\n",
       "        3.17783475e-01, -2.98804212e-02,  7.17429221e-02, -3.05650104e-02,\n",
       "       -6.07049949e-02, -7.20741674e-02, -2.95286588e-02,  2.66616791e-02,\n",
       "        1.94539614e-02,  5.00676893e-02,  1.62490942e-02,  7.93797225e-02,\n",
       "        1.51922941e-01,  4.01304513e-02,  3.30439098e-02, -5.30406572e-02,\n",
       "       -5.55387288e-02, -9.46536139e-02,  5.79129197e-02, -3.30487713e-02,\n",
       "        1.15867503e-01, -1.87331848e-02, -9.81993228e-02,  3.97625975e-02,\n",
       "        9.79587156e-03, -4.80962209e-02,  4.41949964e-02, -2.93579735e-02,\n",
       "       -5.65600321e-02, -2.32636146e-02, -2.36164872e-02,  3.55430357e-02],\n",
       "      dtype=float32)"
      ]
     },
     "execution_count": 15,
     "metadata": {},
     "output_type": "execute_result"
    }
   ],
   "source": [
    "item_representation['rec.motorcycles/104863']"
   ]
  },
  {
   "cell_type": "code",
   "execution_count": null,
   "id": "31d5c625",
   "metadata": {},
   "outputs": [],
   "source": []
  }
 ],
 "metadata": {
  "kernelspec": {
   "display_name": "imm",
   "language": "python",
   "name": "imm"
  },
  "language_info": {
   "codemirror_mode": {
    "name": "ipython",
    "version": 3
   },
   "file_extension": ".py",
   "mimetype": "text/x-python",
   "name": "python",
   "nbconvert_exporter": "python",
   "pygments_lexer": "ipython3",
   "version": "3.9.7"
  }
 },
 "nbformat": 4,
 "nbformat_minor": 5
}
