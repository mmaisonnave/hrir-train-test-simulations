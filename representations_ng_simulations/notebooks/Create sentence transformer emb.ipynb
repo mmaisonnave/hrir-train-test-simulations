{
 "cells": [
  {
   "cell_type": "markdown",
   "id": "6a9a3fcb",
   "metadata": {},
   "source": [
    "### IMPORTS"
   ]
  },
  {
   "cell_type": "code",
   "execution_count": 1,
   "id": "79d371a4",
   "metadata": {},
   "outputs": [
    {
     "name": "stderr",
     "output_type": "stream",
     "text": [
      "The cache for model files in Transformers v4.22.0 has been updated. Migrating your old cache. This is a one-time only operation. You can interrupt this and resume the migration later on by calling `transformers.utils.move_cache()`.\n"
     ]
    },
    {
     "name": "stdout",
     "output_type": "stream",
     "text": [
      "Moving 0 files to the new cache system\n"
     ]
    },
    {
     "data": {
      "application/vnd.jupyter.widget-view+json": {
       "model_id": "15accd99882f4308922b0dcf7ec62bd2",
       "version_major": 2,
       "version_minor": 0
      },
      "text/plain": [
       "0it [00:00, ?it/s]"
      ]
     },
     "metadata": {},
     "output_type": "display_data"
    }
   ],
   "source": [
    "import numpy as np\n",
    "import pandas as pd\n",
    "import os\n",
    "from sentence_transformers import SentenceTransformer\n",
    "import sys\n",
    "import pickle"
   ]
  },
  {
   "cell_type": "markdown",
   "id": "d1e64c89",
   "metadata": {},
   "source": [
    "### INPUTS"
   ]
  },
  {
   "cell_type": "code",
   "execution_count": 8,
   "id": "d2c30f7b",
   "metadata": {},
   "outputs": [],
   "source": [
    "with open('../config/repository_path.txt', 'r') as reader:\n",
    "    repository_path = reader.read().strip()\n",
    "sys.path.append(repository_path)\n",
    "\n",
    "from lib import tdmstudio\n",
    "from lib import nlp\n",
    "\n",
    "# ------ #\n",
    "# OUTPUT #\n",
    "# ------ #\n",
    "embedding_path = os.path.join(repository_path, 'embeddings')\n",
    "assert os.path.exists(embedding_path)\n",
    "embedding_file = os.path.join(embedding_path, 'item_representation_sentence_bert.pickle')\n",
    "\n",
    "# ----- #\n",
    "# INPUT #\n",
    "# ----- #\n",
    "# data_path = '/home/ec2-user/SageMaker/mariano/datasets/displaced_persons/files/labeled_data_latest_08072022.csv'\n",
    "DATAPATH = '/home/ec2-user/SageMaker/mariano/datasets/20news-18828/files/'\n",
    "model_path='/home/ec2-user/SageMaker/mariano/sentence_bert/pretrained/all-MiniLM-L6-v2/'\n"
   ]
  },
  {
   "cell_type": "markdown",
   "id": "a23748ac",
   "metadata": {},
   "source": [
    "### Data"
   ]
  },
  {
   "cell_type": "code",
   "execution_count": 3,
   "id": "579b0f13",
   "metadata": {},
   "outputs": [
    {
     "data": {
      "text/html": [
       "<div>\n",
       "<style scoped>\n",
       "    .dataframe tbody tr th:only-of-type {\n",
       "        vertical-align: middle;\n",
       "    }\n",
       "\n",
       "    .dataframe tbody tr th {\n",
       "        vertical-align: top;\n",
       "    }\n",
       "\n",
       "    .dataframe thead th {\n",
       "        text-align: right;\n",
       "    }\n",
       "</style>\n",
       "<table border=\"1\" class=\"dataframe\">\n",
       "  <thead>\n",
       "    <tr style=\"text-align: right;\">\n",
       "      <th></th>\n",
       "      <th>id</th>\n",
       "      <th>text</th>\n",
       "    </tr>\n",
       "  </thead>\n",
       "  <tbody>\n",
       "    <tr>\n",
       "      <th>0</th>\n",
       "      <td>rec.motorcycles/104702</td>\n",
       "      <td>From: egreen@east.sun.com (Ed Green - Pixel Cr...</td>\n",
       "    </tr>\n",
       "    <tr>\n",
       "      <th>1</th>\n",
       "      <td>rec.motorcycles/104863</td>\n",
       "      <td>From: vech@Ra.MsState.Edu (Craig A. Vechorik)\\...</td>\n",
       "    </tr>\n",
       "    <tr>\n",
       "      <th>2</th>\n",
       "      <td>rec.motorcycles/105203</td>\n",
       "      <td>From: asphaug@lpl.arizona.edu (Erik Asphaug x2...</td>\n",
       "    </tr>\n",
       "    <tr>\n",
       "      <th>3</th>\n",
       "      <td>rec.motorcycles/104694</td>\n",
       "      <td>From: nelson@seahunt.imat.com (Michael Nelson)...</td>\n",
       "    </tr>\n",
       "    <tr>\n",
       "      <th>4</th>\n",
       "      <td>rec.motorcycles/105132</td>\n",
       "      <td>From: jjb@dtc.hp.com (Jim Brewer)\\nSubject: Re...</td>\n",
       "    </tr>\n",
       "    <tr>\n",
       "      <th>...</th>\n",
       "      <td>...</td>\n",
       "      <td>...</td>\n",
       "    </tr>\n",
       "    <tr>\n",
       "      <th>18823</th>\n",
       "      <td>comp.graphics/38943</td>\n",
       "      <td>From: mharring@cch.coventry.ac.uk (MARTIN)\\nSu...</td>\n",
       "    </tr>\n",
       "    <tr>\n",
       "      <th>18824</th>\n",
       "      <td>comp.graphics/38516</td>\n",
       "      <td>From: capelli@vnet.IBM.COM (Ron Capelli)\\nSubj...</td>\n",
       "    </tr>\n",
       "    <tr>\n",
       "      <th>18825</th>\n",
       "      <td>comp.graphics/38292</td>\n",
       "      <td>From: spl@ivem.ucsd.edu (Steve Lamont)\\nSubjec...</td>\n",
       "    </tr>\n",
       "    <tr>\n",
       "      <th>18826</th>\n",
       "      <td>comp.graphics/38219</td>\n",
       "      <td>From: lewism@aix.rpi.edu (Michael C. Lewis)\\nS...</td>\n",
       "    </tr>\n",
       "    <tr>\n",
       "      <th>18827</th>\n",
       "      <td>comp.graphics/39634</td>\n",
       "      <td>From: powlesla@acs.ucalgary.ca (Jim Powlesland...</td>\n",
       "    </tr>\n",
       "  </tbody>\n",
       "</table>\n",
       "<p>18828 rows × 2 columns</p>\n",
       "</div>"
      ],
      "text/plain": [
       "                           id  \\\n",
       "0      rec.motorcycles/104702   \n",
       "1      rec.motorcycles/104863   \n",
       "2      rec.motorcycles/105203   \n",
       "3      rec.motorcycles/104694   \n",
       "4      rec.motorcycles/105132   \n",
       "...                       ...   \n",
       "18823     comp.graphics/38943   \n",
       "18824     comp.graphics/38516   \n",
       "18825     comp.graphics/38292   \n",
       "18826     comp.graphics/38219   \n",
       "18827     comp.graphics/39634   \n",
       "\n",
       "                                                    text  \n",
       "0      From: egreen@east.sun.com (Ed Green - Pixel Cr...  \n",
       "1      From: vech@Ra.MsState.Edu (Craig A. Vechorik)\\...  \n",
       "2      From: asphaug@lpl.arizona.edu (Erik Asphaug x2...  \n",
       "3      From: nelson@seahunt.imat.com (Michael Nelson)...  \n",
       "4      From: jjb@dtc.hp.com (Jim Brewer)\\nSubject: Re...  \n",
       "...                                                  ...  \n",
       "18823  From: mharring@cch.coventry.ac.uk (MARTIN)\\nSu...  \n",
       "18824  From: capelli@vnet.IBM.COM (Ron Capelli)\\nSubj...  \n",
       "18825  From: spl@ivem.ucsd.edu (Steve Lamont)\\nSubjec...  \n",
       "18826  From: lewism@aix.rpi.edu (Michael C. Lewis)\\nS...  \n",
       "18827  From: powlesla@acs.ucalgary.ca (Jim Powlesland...  \n",
       "\n",
       "[18828 rows x 2 columns]"
      ]
     },
     "execution_count": 3,
     "metadata": {},
     "output_type": "execute_result"
    }
   ],
   "source": [
    "files = [os.path.join(DATAPATH, folder, file_) for folder  in os.listdir(DATAPATH) for file_ in os.listdir(os.path.join(DATAPATH, folder))]\n",
    "assert all([os.path.isfile(file_) for file_ in files])\n",
    "\n",
    "ids = ['/'.join(file_.split('/')[-2:]) for file_ in files]\n",
    "texts = list(map(lambda file_: open(file_, 'r', encoding='latin-1').read(), files))\n",
    "\n",
    "\n",
    "        \n",
    "# pd.DataFrame(data)\n",
    "df = pd.DataFrame({'id':ids, 'text':texts,})\n",
    "df"
   ]
  },
  {
   "cell_type": "markdown",
   "id": "1d0b72ea",
   "metadata": {},
   "source": [
    "### Model"
   ]
  },
  {
   "cell_type": "code",
   "execution_count": 6,
   "id": "ebfe99dc",
   "metadata": {},
   "outputs": [],
   "source": [
    "model = SentenceTransformer(model_path)"
   ]
  },
  {
   "cell_type": "code",
   "execution_count": 9,
   "id": "1fae16cc",
   "metadata": {},
   "outputs": [],
   "source": [
    "vecs = model.encode(df['text'])\n",
    "item_representation =  {id_:vecs[ix,:] for ix,id_ in enumerate(df['id'])}"
   ]
  },
  {
   "cell_type": "code",
   "execution_count": 10,
   "id": "24fc99fe",
   "metadata": {},
   "outputs": [
    {
     "data": {
      "text/plain": [
       "'/home/ec2-user/SageMaker/mariano/repositories/train-test-split/all_ng_simulations/embeddings/item_representation_sentence_bert.pickle'"
      ]
     },
     "execution_count": 10,
     "metadata": {},
     "output_type": "execute_result"
    }
   ],
   "source": [
    "embedding_file"
   ]
  },
  {
   "cell_type": "code",
   "execution_count": 11,
   "id": "f2ab3a48",
   "metadata": {},
   "outputs": [],
   "source": [
    "with open(embedding_file, 'wb') as writer:\n",
    "    pickle.dump(item_representation, writer)"
   ]
  },
  {
   "cell_type": "code",
   "execution_count": 12,
   "id": "8b52d460",
   "metadata": {},
   "outputs": [
    {
     "data": {
      "text/plain": [
       "18828"
      ]
     },
     "execution_count": 12,
     "metadata": {},
     "output_type": "execute_result"
    }
   ],
   "source": [
    "len(item_representation)"
   ]
  },
  {
   "cell_type": "code",
   "execution_count": 13,
   "id": "a80a598f",
   "metadata": {},
   "outputs": [
    {
     "data": {
      "text/plain": [
       "['rec.motorcycles/104702', 'rec.motorcycles/104863']"
      ]
     },
     "execution_count": 13,
     "metadata": {},
     "output_type": "execute_result"
    }
   ],
   "source": [
    "list(item_representation)[:2]"
   ]
  },
  {
   "cell_type": "code",
   "execution_count": 17,
   "id": "9bdeec46",
   "metadata": {},
   "outputs": [
    {
     "data": {
      "text/plain": [
       "array([-1.26719177e-01, -1.23524433e-02,  6.10969104e-02, -2.43054610e-02,\n",
       "        1.86887030e-02,  6.51907583e-04,  2.67664138e-02, -2.45015584e-02,\n",
       "        3.13243568e-02, -3.73944151e-03, -3.84143591e-02,  6.61230925e-03,\n",
       "        8.36563483e-02, -5.59335351e-02, -1.07326441e-01,  8.21845308e-02,\n",
       "        2.84472927e-02, -4.21651602e-02, -7.10067898e-02,  5.24298809e-02,\n",
       "        4.96067591e-02,  6.12243861e-02,  5.08911572e-02,  5.34281209e-02,\n",
       "       -6.78168982e-02, -1.79462098e-02, -7.76397884e-02, -8.82810261e-03,\n",
       "       -3.31252627e-02, -9.65857040e-03,  1.98075711e-03,  6.23686761e-02,\n",
       "        2.58533489e-02,  8.84562917e-03,  1.01139911e-01,  3.97649594e-02,\n",
       "        1.32406717e-02, -2.42636278e-02, -3.56027012e-04, -1.57325566e-02,\n",
       "       -1.82134635e-03,  1.86521299e-02,  3.98964109e-03,  5.19698188e-02,\n",
       "        4.24822904e-02,  1.00480614e-03, -1.78762176e-03, -3.00311446e-02,\n",
       "       -4.75977063e-02,  8.74330639e-04, -4.42991443e-02,  3.17157134e-02,\n",
       "        2.97802351e-02, -3.70843448e-02, -1.50046106e-02, -2.50718482e-02,\n",
       "       -4.97476868e-02, -5.11516072e-02,  7.57972663e-03,  3.71667594e-02,\n",
       "       -4.27506156e-02,  3.77551317e-02, -3.01007833e-02,  4.12052274e-02,\n",
       "        1.84369814e-02, -7.07152858e-02, -5.52681312e-02, -7.77191296e-02,\n",
       "       -9.40582007e-02,  3.99788320e-02, -4.25089616e-03,  2.21785754e-02,\n",
       "        8.01386684e-02,  8.30027163e-02, -4.26814929e-02, -2.46831309e-02,\n",
       "        4.61982824e-02,  7.89546296e-02,  9.89952534e-02, -2.17852350e-02,\n",
       "       -7.10058119e-03, -4.06641178e-02,  1.42167630e-02, -1.92562900e-02,\n",
       "        3.04642096e-02, -3.69309373e-02, -1.15125373e-01, -9.36700106e-02,\n",
       "        2.15280950e-02,  4.07977849e-02,  2.25469354e-03, -1.26066342e-01,\n",
       "        1.81427538e-01,  7.36429840e-02, -5.00090094e-03,  1.09138982e-02,\n",
       "       -1.27768272e-03,  1.71365440e-02,  1.92503128e-02,  1.07027277e-01,\n",
       "       -8.58193189e-02,  1.89569574e-02, -4.11616154e-02, -3.16988938e-02,\n",
       "       -3.96281965e-02, -9.19708163e-02,  6.43328251e-03,  3.10689341e-02,\n",
       "       -8.30591619e-02, -7.20000966e-03, -4.68581654e-02,  2.79554464e-02,\n",
       "        5.47591411e-02, -9.96185001e-03,  3.26020867e-02,  2.19440367e-02,\n",
       "       -5.05977161e-02,  6.41302690e-02,  4.62246053e-02,  9.58685763e-03,\n",
       "       -3.75085436e-02,  2.71522291e-02, -7.10985661e-02,  1.67205520e-02,\n",
       "       -2.28271261e-02, -1.00923982e-02,  4.48384471e-02,  6.50588295e-33,\n",
       "        7.30307698e-02,  8.31943676e-02, -8.18321854e-03,  3.03753354e-02,\n",
       "       -4.27520610e-02,  2.20268350e-02, -7.72454636e-03, -2.73160394e-02,\n",
       "        2.26915907e-02, -1.91305615e-02, -1.55702969e-02, -6.72940537e-03,\n",
       "        6.25500083e-02,  4.96370252e-03, -2.75298785e-02,  2.81255599e-02,\n",
       "        7.56260799e-03,  5.31985611e-02, -1.18549019e-02, -4.03391048e-02,\n",
       "        8.51995200e-02,  2.32689362e-02,  3.68474275e-02, -4.72890548e-02,\n",
       "        3.30158100e-02,  3.07407714e-02, -1.67907234e-02, -6.10738844e-02,\n",
       "       -7.17356056e-03,  5.50466366e-02, -5.07222787e-02, -4.18850668e-02,\n",
       "        7.71566406e-02, -6.08001016e-02,  9.15949196e-02, -2.53609288e-02,\n",
       "       -6.57589966e-03, -7.76191503e-02,  4.08429503e-02,  1.73860993e-02,\n",
       "       -5.77794164e-02,  3.42451707e-02, -3.09294499e-02,  1.93882938e-02,\n",
       "       -8.19069818e-02,  7.61519596e-02,  9.74422880e-03,  7.89023489e-02,\n",
       "        4.43928465e-02,  2.56391224e-02,  1.09863602e-01, -5.57431914e-02,\n",
       "       -1.03393560e-02,  4.07789499e-02, -3.29397023e-02, -5.24720736e-02,\n",
       "       -6.40708953e-02, -4.73663472e-02,  7.30830356e-02,  3.06535345e-02,\n",
       "        3.48947570e-02,  7.65191242e-02, -2.70986538e-02, -2.39754785e-02,\n",
       "        1.47285927e-02, -1.19394779e-01, -1.55507818e-01, -3.11963242e-02,\n",
       "        2.51742601e-02, -3.73097211e-02,  6.97122663e-02, -3.69341597e-02,\n",
       "       -5.14544398e-02, -2.90184058e-02, -3.88921308e-03, -8.41401592e-02,\n",
       "        4.15822715e-02,  4.75962013e-02,  1.38964923e-03, -1.39613356e-02,\n",
       "        3.78137194e-02, -1.68300234e-02,  2.32174601e-02, -1.18781678e-01,\n",
       "        3.70631367e-02, -8.22662115e-02,  3.69749069e-02, -2.27638520e-02,\n",
       "        1.07792020e-02,  9.73599404e-02,  1.43708577e-02, -3.95183526e-02,\n",
       "       -2.85753398e-04, -9.90820117e-03, -5.18976524e-02, -7.37316195e-33,\n",
       "       -6.85670897e-02, -5.48032448e-02,  3.68963815e-02, -2.76683201e-03,\n",
       "       -2.32075807e-03, -1.50657007e-02,  1.24798613e-02, -1.08880661e-02,\n",
       "        3.80870812e-02, -1.62429675e-01, -8.68754275e-03,  2.02183910e-02,\n",
       "        8.88780057e-02, -3.28066237e-02, -1.86853074e-02, -1.20897731e-02,\n",
       "       -4.68632719e-03,  3.71116884e-02, -5.46533428e-02,  2.15864163e-02,\n",
       "        1.45861395e-02,  3.91446659e-03, -1.22218192e-01, -3.04815117e-02,\n",
       "       -6.71303971e-03, -3.85994022e-03,  1.55732343e-02,  2.64972914e-02,\n",
       "       -1.06505109e-02,  4.35045809e-02, -5.44916876e-02, -3.13197896e-02,\n",
       "       -1.70824379e-01,  4.64388803e-02,  1.34356888e-02, -4.38346677e-02,\n",
       "        3.56594287e-02,  3.70502509e-02, -1.24398991e-02,  4.26912121e-02,\n",
       "        4.19120938e-02, -3.46389003e-02, -1.82297789e-02,  3.51930037e-02,\n",
       "       -3.15719955e-02,  1.01633817e-02, -2.84690615e-02, -1.39610237e-02,\n",
       "        7.36042708e-02,  9.04098526e-02, -7.80935809e-02, -4.54057567e-02,\n",
       "        2.81723607e-02,  6.81039765e-02,  4.83615734e-02,  3.93768996e-02,\n",
       "       -6.96050599e-02, -7.35294595e-02,  2.49253325e-02,  1.01010669e-02,\n",
       "        4.55959029e-02,  6.52422011e-02, -7.66883371e-03, -3.92209217e-02,\n",
       "        1.17000476e-01, -4.72118752e-03, -1.73404012e-02, -9.63892881e-03,\n",
       "        2.63836961e-02, -3.44281830e-02, -5.26249185e-02, -8.05653334e-02,\n",
       "       -5.33882827e-02, -6.77870885e-02,  2.09584069e-02,  6.68689460e-02,\n",
       "       -2.97547318e-02, -2.09424030e-02, -7.21411929e-02, -3.17871198e-02,\n",
       "       -6.05576076e-02,  2.77289543e-02,  5.74749522e-03, -2.17746422e-02,\n",
       "        6.54063970e-02,  4.01595570e-02,  7.76499808e-02, -4.86150384e-02,\n",
       "        7.13260286e-03,  2.34611630e-02,  3.94753590e-02, -6.96872100e-02,\n",
       "        1.16970398e-01, -1.34898257e-02,  2.91952174e-02, -6.81235406e-08,\n",
       "       -4.27700989e-02,  1.65776350e-02, -1.07488729e-01, -1.09530622e-02,\n",
       "        7.20560104e-02,  5.94047680e-02, -4.88428585e-02, -7.55556598e-02,\n",
       "        3.35056558e-02, -1.17501374e-02,  1.29905865e-01,  1.15158431e-01,\n",
       "       -4.75404486e-02, -9.40733999e-02, -1.77589580e-02, -8.96897539e-03,\n",
       "       -1.02685556e-01, -4.18307669e-02, -4.96231765e-02, -5.09666372e-03,\n",
       "        4.71260771e-02,  1.49956800e-03, -4.87127118e-02,  6.70651197e-02,\n",
       "        2.06508338e-02, -3.87206115e-03, -2.86542960e-02,  6.66091219e-02,\n",
       "       -6.93593696e-02,  3.42081115e-02, -3.22535262e-02,  4.05803435e-02,\n",
       "       -4.89637926e-02, -2.95478217e-02,  2.70629060e-02, -1.91780142e-02,\n",
       "       -2.11002231e-02,  1.61503796e-02,  5.02762012e-02, -3.10374722e-02,\n",
       "       -1.99161544e-02,  4.78910794e-03,  4.10579480e-02,  6.58008233e-02,\n",
       "        4.04262021e-02,  1.67366900e-02, -2.65442058e-02,  4.70362138e-03,\n",
       "        2.97460314e-02,  1.72596481e-02,  2.47891732e-02, -4.14596647e-02,\n",
       "        1.02354717e-02,  4.59539257e-02,  7.37779140e-02, -1.79302052e-03,\n",
       "        4.57479320e-02, -1.16575137e-02, -5.38389981e-02,  6.95426483e-04,\n",
       "        3.02209482e-02, -6.35177270e-02,  1.00358399e-02,  1.67815387e-02],\n",
       "      dtype=float32)"
      ]
     },
     "execution_count": 17,
     "metadata": {},
     "output_type": "execute_result"
    }
   ],
   "source": [
    "item_representation['rec.motorcycles/104863']"
   ]
  },
  {
   "cell_type": "code",
   "execution_count": null,
   "id": "0fbb52e8",
   "metadata": {},
   "outputs": [],
   "source": []
  }
 ],
 "metadata": {
  "kernelspec": {
   "display_name": "sbert_sample_env",
   "language": "python",
   "name": "sbert_sample_env"
  },
  "language_info": {
   "codemirror_mode": {
    "name": "ipython",
    "version": 3
   },
   "file_extension": ".py",
   "mimetype": "text/x-python",
   "name": "python",
   "nbconvert_exporter": "python",
   "pygments_lexer": "ipython3",
   "version": "3.10.6"
  }
 },
 "nbformat": 4,
 "nbformat_minor": 5
}
