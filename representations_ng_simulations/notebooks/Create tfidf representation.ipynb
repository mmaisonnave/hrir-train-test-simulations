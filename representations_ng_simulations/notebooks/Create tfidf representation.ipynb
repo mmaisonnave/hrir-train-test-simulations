{
 "cells": [
  {
   "cell_type": "markdown",
   "id": "698b9ccb",
   "metadata": {},
   "source": [
    "### IMPORTS"
   ]
  },
  {
   "cell_type": "code",
   "execution_count": 1,
   "id": "e0112156",
   "metadata": {},
   "outputs": [],
   "source": [
    "import numpy as np\n",
    "import pandas as pd\n",
    "import os\n",
    "import sys\n",
    "import pickle"
   ]
  },
  {
   "cell_type": "code",
   "execution_count": 20,
   "id": "0219ff9b",
   "metadata": {},
   "outputs": [
    {
     "data": {
      "text/plain": [
       "'/home/ec2-user/SageMaker/mariano/repositories/train-test-split/all_ng_simulations'"
      ]
     },
     "execution_count": 20,
     "metadata": {},
     "output_type": "execute_result"
    }
   ],
   "source": [
    "repository_path"
   ]
  },
  {
   "cell_type": "markdown",
   "id": "8be8eb8a",
   "metadata": {},
   "source": [
    "### INTPUT & OUTPUT"
   ]
  },
  {
   "cell_type": "code",
   "execution_count": 2,
   "id": "e2a0a580",
   "metadata": {},
   "outputs": [],
   "source": [
    "with open('../config/repository_path.txt', 'r') as reader:\n",
    "    repository_path = reader.read().strip()\n",
    "sys.path.append(repository_path)\n",
    "\n",
    "from lib import tdmstudio\n",
    "from lib import nlp\n",
    "\n",
    "# ------ #\n",
    "# OUTPUT #\n",
    "# ------ #\n",
    "embedding_path = os.path.join(repository_path, 'embeddings')\n",
    "assert os.path.exists(embedding_path)\n",
    "embedding_file = os.path.join(embedding_path, 'item_representation_tfidf.pickle')\n",
    "\n",
    "# ----- #\n",
    "# INPUT #\n",
    "# ----- #\n",
    "# data_path = '/home/ec2-user/SageMaker/mariano/datasets/displaced_persons/files/labeled_data_latest_08072022.csv'\n",
    "DATAPATH = '/home/ec2-user/SageMaker/mariano/datasets/20news-18828/files/'\n"
   ]
  },
  {
   "cell_type": "markdown",
   "id": "001eaae3",
   "metadata": {},
   "source": [
    "### DATA"
   ]
  },
  {
   "cell_type": "code",
   "execution_count": 14,
   "id": "2113bd90",
   "metadata": {},
   "outputs": [
    {
     "data": {
      "text/html": [
       "<div>\n",
       "<style scoped>\n",
       "    .dataframe tbody tr th:only-of-type {\n",
       "        vertical-align: middle;\n",
       "    }\n",
       "\n",
       "    .dataframe tbody tr th {\n",
       "        vertical-align: top;\n",
       "    }\n",
       "\n",
       "    .dataframe thead th {\n",
       "        text-align: right;\n",
       "    }\n",
       "</style>\n",
       "<table border=\"1\" class=\"dataframe\">\n",
       "  <thead>\n",
       "    <tr style=\"text-align: right;\">\n",
       "      <th></th>\n",
       "      <th>id</th>\n",
       "      <th>text</th>\n",
       "    </tr>\n",
       "  </thead>\n",
       "  <tbody>\n",
       "    <tr>\n",
       "      <th>0</th>\n",
       "      <td>rec.motorcycles/104702</td>\n",
       "      <td>From: egreen@east.sun.com (Ed Green - Pixel Cr...</td>\n",
       "    </tr>\n",
       "    <tr>\n",
       "      <th>1</th>\n",
       "      <td>rec.motorcycles/104863</td>\n",
       "      <td>From: vech@Ra.MsState.Edu (Craig A. Vechorik)\\...</td>\n",
       "    </tr>\n",
       "    <tr>\n",
       "      <th>2</th>\n",
       "      <td>rec.motorcycles/105203</td>\n",
       "      <td>From: asphaug@lpl.arizona.edu (Erik Asphaug x2...</td>\n",
       "    </tr>\n",
       "    <tr>\n",
       "      <th>3</th>\n",
       "      <td>rec.motorcycles/104694</td>\n",
       "      <td>From: nelson@seahunt.imat.com (Michael Nelson)...</td>\n",
       "    </tr>\n",
       "    <tr>\n",
       "      <th>4</th>\n",
       "      <td>rec.motorcycles/105132</td>\n",
       "      <td>From: jjb@dtc.hp.com (Jim Brewer)\\nSubject: Re...</td>\n",
       "    </tr>\n",
       "    <tr>\n",
       "      <th>...</th>\n",
       "      <td>...</td>\n",
       "      <td>...</td>\n",
       "    </tr>\n",
       "    <tr>\n",
       "      <th>18823</th>\n",
       "      <td>comp.graphics/38943</td>\n",
       "      <td>From: mharring@cch.coventry.ac.uk (MARTIN)\\nSu...</td>\n",
       "    </tr>\n",
       "    <tr>\n",
       "      <th>18824</th>\n",
       "      <td>comp.graphics/38516</td>\n",
       "      <td>From: capelli@vnet.IBM.COM (Ron Capelli)\\nSubj...</td>\n",
       "    </tr>\n",
       "    <tr>\n",
       "      <th>18825</th>\n",
       "      <td>comp.graphics/38292</td>\n",
       "      <td>From: spl@ivem.ucsd.edu (Steve Lamont)\\nSubjec...</td>\n",
       "    </tr>\n",
       "    <tr>\n",
       "      <th>18826</th>\n",
       "      <td>comp.graphics/38219</td>\n",
       "      <td>From: lewism@aix.rpi.edu (Michael C. Lewis)\\nS...</td>\n",
       "    </tr>\n",
       "    <tr>\n",
       "      <th>18827</th>\n",
       "      <td>comp.graphics/39634</td>\n",
       "      <td>From: powlesla@acs.ucalgary.ca (Jim Powlesland...</td>\n",
       "    </tr>\n",
       "  </tbody>\n",
       "</table>\n",
       "<p>18828 rows × 2 columns</p>\n",
       "</div>"
      ],
      "text/plain": [
       "                           id  \\\n",
       "0      rec.motorcycles/104702   \n",
       "1      rec.motorcycles/104863   \n",
       "2      rec.motorcycles/105203   \n",
       "3      rec.motorcycles/104694   \n",
       "4      rec.motorcycles/105132   \n",
       "...                       ...   \n",
       "18823     comp.graphics/38943   \n",
       "18824     comp.graphics/38516   \n",
       "18825     comp.graphics/38292   \n",
       "18826     comp.graphics/38219   \n",
       "18827     comp.graphics/39634   \n",
       "\n",
       "                                                    text  \n",
       "0      From: egreen@east.sun.com (Ed Green - Pixel Cr...  \n",
       "1      From: vech@Ra.MsState.Edu (Craig A. Vechorik)\\...  \n",
       "2      From: asphaug@lpl.arizona.edu (Erik Asphaug x2...  \n",
       "3      From: nelson@seahunt.imat.com (Michael Nelson)...  \n",
       "4      From: jjb@dtc.hp.com (Jim Brewer)\\nSubject: Re...  \n",
       "...                                                  ...  \n",
       "18823  From: mharring@cch.coventry.ac.uk (MARTIN)\\nSu...  \n",
       "18824  From: capelli@vnet.IBM.COM (Ron Capelli)\\nSubj...  \n",
       "18825  From: spl@ivem.ucsd.edu (Steve Lamont)\\nSubjec...  \n",
       "18826  From: lewism@aix.rpi.edu (Michael C. Lewis)\\nS...  \n",
       "18827  From: powlesla@acs.ucalgary.ca (Jim Powlesland...  \n",
       "\n",
       "[18828 rows x 2 columns]"
      ]
     },
     "execution_count": 14,
     "metadata": {},
     "output_type": "execute_result"
    }
   ],
   "source": [
    "files = [os.path.join(DATAPATH, folder, file_) for folder  in os.listdir(DATAPATH) for file_ in os.listdir(os.path.join(DATAPATH, folder))]\n",
    "assert all([os.path.isfile(file_) for file_ in files])\n",
    "\n",
    "ids = ['/'.join(file_.split('/')[-2:]) for file_ in files]\n",
    "texts = list(map(lambda file_: open(file_, 'r', encoding='latin-1').read(), files))\n",
    "\n",
    "\n",
    "        \n",
    "# pd.DataFrame(data)\n",
    "df = pd.DataFrame({'id':ids, 'text':texts,})\n",
    "df"
   ]
  },
  {
   "cell_type": "markdown",
   "id": "e7e93b05",
   "metadata": {},
   "source": [
    "### MODEL\n"
   ]
  },
  {
   "cell_type": "code",
   "execution_count": 19,
   "id": "808b6d02",
   "metadata": {},
   "outputs": [],
   "source": [
    "vectorizer = nlp.get_spacy_processed_vectorize()\n",
    "X = vectorizer.fit_transform(df['text'])\n"
   ]
  },
  {
   "cell_type": "code",
   "execution_count": 21,
   "id": "7afc1e84",
   "metadata": {},
   "outputs": [],
   "source": [
    "item_representation =  {id_:X[ix,:].toarray() for ix,id_ in enumerate(df['id'])}"
   ]
  },
  {
   "cell_type": "code",
   "execution_count": 23,
   "id": "bae96967",
   "metadata": {},
   "outputs": [
    {
     "data": {
      "text/plain": [
       "'/home/ec2-user/SageMaker/mariano/repositories/train-test-split/all_ng_simulations/embeddings/item_representation_tfidf.pickle'"
      ]
     },
     "execution_count": 23,
     "metadata": {},
     "output_type": "execute_result"
    }
   ],
   "source": [
    "embedding_file"
   ]
  },
  {
   "cell_type": "code",
   "execution_count": 24,
   "id": "2802c71c",
   "metadata": {},
   "outputs": [],
   "source": [
    "with open(embedding_file, 'wb') as writer:\n",
    "    pickle.dump(item_representation, writer)"
   ]
  },
  {
   "cell_type": "code",
   "execution_count": 25,
   "id": "91b0f5bc",
   "metadata": {},
   "outputs": [
    {
     "data": {
      "text/plain": [
       "['rec.motorcycles/104702', 'rec.motorcycles/104863']"
      ]
     },
     "execution_count": 25,
     "metadata": {},
     "output_type": "execute_result"
    }
   ],
   "source": [
    "list(item_representation)[0:2]"
   ]
  },
  {
   "cell_type": "code",
   "execution_count": 31,
   "id": "aec29de2",
   "metadata": {},
   "outputs": [
    {
     "data": {
      "text/plain": [
       "numpy.ndarray"
      ]
     },
     "execution_count": 31,
     "metadata": {},
     "output_type": "execute_result"
    }
   ],
   "source": [
    "type(item_representation['rec.motorcycles/104702'])"
   ]
  },
  {
   "cell_type": "code",
   "execution_count": 16,
   "id": "3a30b888",
   "metadata": {},
   "outputs": [
    {
     "data": {
      "text/plain": [
       "'/home/ec2-user/SageMaker/mariano/repositories/train-test-split/all_ng20_simulations/embeddings/item_representation_tfidf.pickle'"
      ]
     },
     "execution_count": 16,
     "metadata": {},
     "output_type": "execute_result"
    }
   ],
   "source": [
    "embedding_file"
   ]
  },
  {
   "cell_type": "code",
   "execution_count": null,
   "id": "569b1362",
   "metadata": {},
   "outputs": [],
   "source": []
  }
 ],
 "metadata": {
  "kernelspec": {
   "display_name": "imm",
   "language": "python",
   "name": "imm"
  },
  "language_info": {
   "codemirror_mode": {
    "name": "ipython",
    "version": 3
   },
   "file_extension": ".py",
   "mimetype": "text/x-python",
   "name": "python",
   "nbconvert_exporter": "python",
   "pygments_lexer": "ipython3",
   "version": "3.9.7"
  }
 },
 "nbformat": 4,
 "nbformat_minor": 5
}
